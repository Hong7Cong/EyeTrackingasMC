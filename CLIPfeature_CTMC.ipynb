{
 "cells": [
  {
   "cell_type": "code",
   "execution_count": 1,
   "metadata": {},
   "outputs": [
    {
     "name": "stderr",
     "output_type": "stream",
     "text": [
      "/home/hongn/miniconda3/envs/xai/lib/python3.10/site-packages/tqdm/auto.py:21: TqdmWarning: IProgress not found. Please update jupyter and ipywidgets. See https://ipywidgets.readthedocs.io/en/stable/user_install.html\n",
      "  from .autonotebook import tqdm as notebook_tqdm\n"
     ]
    }
   ],
   "source": [
    "import os\n",
    "from scipy import stats\n",
    "from process import *\n",
    "from utils import *"
   ]
  },
  {
   "cell_type": "markdown",
   "metadata": {},
   "source": [
    "## Pre-defined"
   ]
  },
  {
   "cell_type": "code",
   "execution_count": 2,
   "metadata": {},
   "outputs": [],
   "source": [
    "TRIALS = {\n",
    "    \"all\": TRIAL_LIST,\n",
    "    \"texture\": TRIAL_TEXTURE,\n",
    "    \"complexity\": TRIAL_COMPLEXITY,\n",
    "    \"orientation\": TRIAL_ORIENTATION,\n",
    "    \"brightness\": TRIAL_BRIGHTNESS,\n",
    "    \"contrast\": TRIAL_CONTRAST,\n",
    "    \"color\": TRIAL_COLOR,\n",
    "    \"depth\": TRIAL_DEPTH,\n",
    "    \"face\": TRIAL_FACE,\n",
    "    \"movement\": TRIAL_MOVEMENT,\n",
    "    \"face_texture\": TRIAL_FACE_TEXTURE,\n",
    "}\n",
    "\n",
    "these_trials = TRIALS[\"all\"]\n",
    "smap = \"face\"\n",
    "\n",
    "def statistic_mw(x, y):\n",
    "    return stats.mannwhitneyu(x, y)[0]\n",
    "\n",
    "\n",
    "def iqr(x):\n",
    "    q1, q3 = np.percentile(x, [25, 75])\n",
    "    return q3 - q1\n",
    "\n",
    "\n",
    "def extract_features(ids, trial, smap):\n",
    "    if smap is not None:\n",
    "        smap = trial.load_saliency_map(smap)\n",
    "        smap_vs = trial.load_saliency_map(\"red\")\n",
    "\n",
    "    features = []\n",
    "    for subject in ids:\n",
    "        sub = Subject(DATA_ROOT, subject)\n",
    "        out = sub.extract_fixations(trial_name=this_trial.trial_name)\n",
    "        analyzer = FixationAnalyzer(DATA_ROOT, out)\n",
    "        feat = analyzer.average_saliency(smap)\n",
    "        feat_vs = analyzer.average_saliency(smap_vs)\n",
    "        # feat = analyzer.number_of_fixations()\n",
    "        # feat = sub.eye_mov_entropy(trial.trial_name, perplexity=True)\n",
    "        features.append(feat - feat_vs)\n",
    "        feats[subject].append(feat - feat_vs)\n",
    "    return features"
   ]
  },
  {
   "cell_type": "code",
   "execution_count": 3,
   "metadata": {},
   "outputs": [],
   "source": [
    "class ImageTrial:\n",
    "    def __init__(self, root, trial_name, smap_dir):\n",
    "        self.root = root\n",
    "        self.new_res = True if \"new_res\" in root else False\n",
    "        self.path = glob.glob(f\"/home/hong/cvi-stimuli/*{trial_name}*\")[0]\n",
    "        self.trial_name = trial_name\n",
    "        self.smap_dir = smap_dir\n",
    "        self.ids = glob.glob(os.path.join(root, \"*.asc\"))\n",
    "        self.ids = [os.path.basename(d)[:-4] for d in self.ids]\n",
    "\n",
    "    def load_trial_img(self):\n",
    "        img = cv2.imread(self.path)\n",
    "        return cv2.cvtColor(img, cv2.COLOR_BGR2RGB)\n",
    "\n",
    "    def load_saliency_map(self, smap_type):\n",
    "        image_name = self.trial_name.strip(\".jpg\")\n",
    "        filename = f\"{image_name}_{smap_type}.jpg\"\n",
    "        path = os.path.join(self.smap_dir, image_name, filename)\n",
    "\n",
    "        if os.path.exists(path):\n",
    "            smap = plt.imread(path)\n",
    "        else:\n",
    "            os.makedirs(os.path.join(self.smap_dir, image_name), exist_ok=True)\n",
    "            sal = SaliencyMap(smap_type)\n",
    "            smap = sal.get_smap(self.load_trial_img())\n",
    "            cv2.imwrite(path, smap)\n",
    "\n",
    "        if self.new_res:\n",
    "            smap = np.pad(smap, ((240, 240), (320, 320)), 'constant')\n",
    "        return smap.T\n",
    "\n",
    "    def complexity(self):\n",
    "        img = self.load_trial_img()\n",
    "        img = cv2.cvtColor(img, cv2.COLOR_BGR2GRAY)\n",
    "        stats = measure.regionprops(img)\n",
    "        areas = [l.area for l in stats]\n",
    "        rp_tot = img.shape[0] * img.shape[1]\n",
    "        return sum(areas > (rp_tot / 25000))\n",
    "\n",
    "    def read_subjects(self, names, vel=False):\n",
    "        data, frac = {}, {}\n",
    "        for subject in names:\n",
    "            sub = Subject(subject)\n",
    "            trial_data, frac = sub.extract_data(self.trial_name, vel)\n",
    "            data[subject] = trial_data\n",
    "            frac[subject] = 1 - frac\n",
    "        return data, frac\n",
    "\n",
    "    def read_fixations(self, names):\n",
    "        fixations = {}\n",
    "        for subject in names:\n",
    "            sub = Subject(subject)\n",
    "            this = sub.extract_fixations(self.trial_name)\n",
    "            fixations[subject] = this\n",
    "        return fixations\n",
    "\n",
    "    def extract_traces(self, names, smap):\n",
    "        traces = {}\n",
    "        for subject in names:\n",
    "            sub = Subject(subject)\n",
    "            this = sub.extract_trace(self.trial_name, smap)\n",
    "            traces[subject] = this\n",
    "        return traces"
   ]
  },
  {
   "cell_type": "markdown",
   "metadata": {},
   "source": [
    "## Process"
   ]
  },
  {
   "cell_type": "code",
   "execution_count": 17,
   "metadata": {},
   "outputs": [
    {
     "data": {
      "text/plain": [
       "dict_keys(['1003_2', '1003_3', '1003_4', '1004_2', '1005_1', '1006_1', '1006_2', '1006_3', '1006_4', '1007_1', '1007_2', '1007_3', '1007_4', '1008_1', '1010_1', '1010_2', '1010_3', '1010_4', '1011_1', '1011_2', '1011_3', '1013_1', '1013_2', '1013_3', '1013_4', '1015_1', '1015_2', '1017_1', '1017_2', '1017_3', '1017_4', '1018_1', '1018_2', '1018_3', '1018_4', '1019_1', '1019_2', '1019_3', '1019_4', '1020_1', '1020_2', '1020_3', '1020_4', '1022_1', '1022_2', '1022_3', '1022_4', '1023_1', '1023_2', '1023_3', '1023_4', '1024_1', '1024_2', '1024_3', '1026_1', '1027_1', '1027_2', '1027_3', '1027_4', '1028_1', '1028_2', '1028_3', '1028_4', '1030_1', '1031_1', '1031_2', '1031_3', '1031_4', '1033_1', '1034_1', '1034_2', '1034_3', '1035_1', '1035_3', '1035_4', '1037_1', '1037_4', '1039_1', '1039_2', '1039_3', '1039_4', '1040_1', '1040_2', '1040_4', '1042_1', '1042_2', '1042_3', '1042_4', '1043_1', '1043_2', '1043_3', '1043_4', '1044_1', '1044_2', '1044_4', '1045_2', '1045_3', '1045_4', '1046_1', '1046_2', '1046_3', '1046_4', '1047_1', '1047_2', '1047_3', '1048_1', '1048_2', '1048_3', '1049_1', '1049_2', '1049_3', '1050_1', '1050_2', '1050_3', '1051_1', '1051_2', '1052_1', '1052_2', '1052_3', '1053_3', '1054_1', '1056_1', '2002_1', '2002_2', '2003_1', '2003_2', '2004_1', '2004_2', '2005_1', '2005_2', '2006_1', '2006_2', '2008_1', '2009_1', '2010_1', '2011_1', '2013_1', '2014_1', '2015_1', '2017_1', '2018_1', '2019_1', '2022_1', '2023_1', '2024_1', '2025_1', '2026_1', '2031_1', '2036_1', '2037_1', '2038_1', '2039_1', '2040_1', '2043_1', '2044_1', '2045_1'])"
      ]
     },
     "execution_count": 17,
     "metadata": {},
     "output_type": "execute_result"
    }
   ],
   "source": [
    "import json \n",
    "# with open('markov_chains_swapped.json', 'rb') as f:\n",
    "f = open('markov_chains_swapped.json')\n",
    "markov_chains_swapped = json.load(f)\n",
    "markov_chains_swapped.keys()"
   ]
  },
  {
   "cell_type": "code",
   "execution_count": 18,
   "metadata": {},
   "outputs": [],
   "source": [
    "alldata = {}\n",
    "for k in markov_chains_swapped.keys():\n",
    "    alldata[k] = list({k: v for k, v in markov_chains_swapped[k].items() if v}.values())\n",
    "    # Make every string-int to int \n",
    "    for j in range(len(alldata[k])):\n",
    "        alldata[k][j][1::2] = [int(i) for i in alldata[k][j][1::2]]\n",
    "        alldata[k][j].insert(0, 0)\n",
    "        alldata[k][j].insert(0, 'init')\n"
   ]
  },
  {
   "cell_type": "code",
   "execution_count": 20,
   "metadata": {},
   "outputs": [],
   "source": [
    "import jajapy as ja\n",
    "from jajapy.base.Set import Set"
   ]
  },
  {
   "cell_type": "code",
   "execution_count": 25,
   "metadata": {},
   "outputs": [
    {
     "name": "stdout",
     "output_type": "stream",
     "text": [
      "1003_2\n"
     ]
    },
    {
     "ename": "TypeError",
     "evalue": "CTMC_random() missing 2 required positional arguments: 'min_exit_rate_time' and 'max_exit_rate_time'",
     "output_type": "error",
     "traceback": [
      "\u001b[0;31m---------------------------------------------------------------------------\u001b[0m",
      "\u001b[0;31mTypeError\u001b[0m                                 Traceback (most recent call last)",
      "Cell \u001b[0;32mIn[25], line 10\u001b[0m\n\u001b[1;32m      8\u001b[0m quality_best \u001b[38;5;241m=\u001b[39m \u001b[38;5;241m-\u001b[39m\u001b[38;5;241m1024\u001b[39m\n\u001b[1;32m      9\u001b[0m \u001b[38;5;28;01mfor\u001b[39;00m n \u001b[38;5;129;01min\u001b[39;00m \u001b[38;5;28mrange\u001b[39m(\u001b[38;5;241m1\u001b[39m,nb_trials\u001b[38;5;241m+\u001b[39m\u001b[38;5;241m1\u001b[39m):\n\u001b[0;32m---> 10\u001b[0m     current_model \u001b[38;5;241m=\u001b[39m \u001b[43mja\u001b[49m\u001b[38;5;241;43m.\u001b[39;49m\u001b[43mCTMC_random\u001b[49m\u001b[43m(\u001b[49m\u001b[43mnb_states\u001b[49m\u001b[38;5;241;43m=\u001b[39;49m\u001b[38;5;241;43m4\u001b[39;49m\u001b[43m,\u001b[49m\n\u001b[1;32m     11\u001b[0m \u001b[43m                            \u001b[49m\u001b[43mlabelling\u001b[49m\u001b[38;5;241;43m=\u001b[39;49m\u001b[43m[\u001b[49m\u001b[38;5;124;43m'\u001b[39;49m\u001b[38;5;124;43msaccade\u001b[39;49m\u001b[38;5;124;43m'\u001b[39;49m\u001b[43m,\u001b[49m\u001b[38;5;124;43m'\u001b[39;49m\u001b[38;5;124;43mcomplex_scene_fixation\u001b[39;49m\u001b[38;5;124;43m'\u001b[39;49m\u001b[43m,\u001b[49m\u001b[38;5;124;43m'\u001b[39;49m\u001b[38;5;124;43mbackground_fixation\u001b[39;49m\u001b[38;5;124;43m'\u001b[39;49m\u001b[43m,\u001b[49m\u001b[43m \u001b[49m\u001b[38;5;124;43m'\u001b[39;49m\u001b[38;5;124;43mface_fixation\u001b[39;49m\u001b[38;5;124;43m'\u001b[39;49m\u001b[43m]\u001b[49m\u001b[43m,\u001b[49m\n\u001b[1;32m     12\u001b[0m \u001b[43m                            \u001b[49m\u001b[43mself_loop\u001b[49m\u001b[38;5;241;43m=\u001b[39;49m\u001b[38;5;28;43;01mFalse\u001b[39;49;00m\u001b[43m,\u001b[49m\n\u001b[1;32m     13\u001b[0m \u001b[43m                            \u001b[49m\u001b[43mrandom_initial_state\u001b[49m\u001b[38;5;241;43m=\u001b[39;49m\u001b[38;5;28;43;01mTrue\u001b[39;49;00m\u001b[43m)\u001b[49m\n\u001b[1;32m     14\u001b[0m     current_quality \u001b[38;5;241m=\u001b[39m current_model\u001b[38;5;241m.\u001b[39mlogLikelihood(Set(alldata[key], [\u001b[38;5;241m1\u001b[39m] \u001b[38;5;241m*\u001b[39m \u001b[38;5;28mlen\u001b[39m(alldata[key]), t\u001b[38;5;241m=\u001b[39m\u001b[38;5;241m4\u001b[39m))\n\u001b[1;32m     15\u001b[0m     \u001b[38;5;28;01mif\u001b[39;00m quality_best \u001b[38;5;241m<\u001b[39m current_quality: \u001b[38;5;66;03m#we keep the best model only\u001b[39;00m\n",
      "\u001b[0;31mTypeError\u001b[0m: CTMC_random() missing 2 required positional arguments: 'min_exit_rate_time' and 'max_exit_rate_time'"
     ]
    }
   ],
   "source": [
    "nb_trials = 5\n",
    "# ctmc_ctrl_models = {}\n",
    "ctmc_models = {}\n",
    "\n",
    "for key in alldata:\n",
    "    print(key)\n",
    "    best_model = None\n",
    "    quality_best = -1024\n",
    "    for n in range(1,nb_trials+1):\n",
    "        current_model = ja.CTMC_random(nb_states=4,\n",
    "                                labelling=['saccade','complex_scene_fixation','background_fixation', 'face_fixation'],\n",
    "                                self_loop=False,\n",
    "                                random_initial_state=True,\n",
    "                                min_exit_rate_time=1,\n",
    "                                max_exit_rate_time=6)\n",
    "        current_quality = current_model.logLikelihood(Set(alldata[key], [1] * len(alldata[key]), t=4))\n",
    "        if quality_best < current_quality: #we keep the best model only\n",
    "                        quality_best = current_quality\n",
    "                        best_model = current_model\n",
    "\n",
    "    ctmc_models[key] = ja.BW().fit(Set(alldata[key], [1] * len(alldata[key]), t=4), initial_model=best_model,  stormpy_output=False, nb_states=4)\n"
   ]
  }
 ],
 "metadata": {
  "kernelspec": {
   "display_name": "xai",
   "language": "python",
   "name": "python3"
  },
  "language_info": {
   "codemirror_mode": {
    "name": "ipython",
    "version": 3
   },
   "file_extension": ".py",
   "mimetype": "text/x-python",
   "name": "python",
   "nbconvert_exporter": "python",
   "pygments_lexer": "ipython3",
   "version": "3.10.13"
  }
 },
 "nbformat": 4,
 "nbformat_minor": 2
}
