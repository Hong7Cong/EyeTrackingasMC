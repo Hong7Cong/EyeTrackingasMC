{
 "cells": [
  {
   "cell_type": "code",
   "execution_count": 621,
   "metadata": {},
   "outputs": [],
   "source": [
    "import pickle\n",
    "import numpy as np\n",
    "import pickle "
   ]
  },
  {
   "cell_type": "markdown",
   "metadata": {},
   "source": [
    "# For 3-states"
   ]
  },
  {
   "cell_type": "code",
   "execution_count": 622,
   "metadata": {},
   "outputs": [],
   "source": [
    "# Load CTMC from files\n",
    "with open('ctmc_ctrl_models.pkl', 'rb') as f:\n",
    "    ctmc_ctrl_models = pickle.load(f)\n",
    "\n",
    "with open('ctmc_cvi_models.pkl', 'rb') as f:\n",
    "    ctmc_cvi_models = pickle.load(f)\n",
    "\n",
    "print(ctmc_cvi_models['1044_4'])"
   ]
  },
  {
   "cell_type": "code",
   "execution_count": 624,
   "metadata": {},
   "outputs": [],
   "source": [
    "cvi_ids = list(set([i.split('_')[0] for i in list(ctmc_cvi_models.keys())]))\n",
    "ctrl_ids = list(set([i.split('_')[0] for i in list(ctmc_ctrl_models.keys())]))\n",
    "ctrl_ids.sort()\n",
    "cvi_ids.sort()\n",
    "\n",
    "train_ids = ctrl_ids[:-5] + cvi_ids[:-5]\n",
    "train_labels = [0] * len(ctrl_ids[:-5]) + [1] * len(cvi_ids[:-5])\n",
    "\n",
    "test_ids = ctrl_ids[-5:] + cvi_ids[-5:]\n",
    "test_labels = [0] * len(ctrl_ids[-5:]) + [1] * len(cvi_ids[-5:])"
   ]
  },
  {
   "cell_type": "code",
   "execution_count": 625,
   "metadata": {},
   "outputs": [],
   "source": [
    "X =  ctrl_ids + cvi_ids\n",
    "y = [0] * len(ctrl_ids) + [1] * len(cvi_ids)"
   ]
  },
  {
   "cell_type": "code",
   "execution_count": 626,
   "metadata": {},
   "outputs": [],
   "source": [
    "def get_train_test_data_(ctmc_cvi_models, ctmc_ctrl_models, train_ids):\n",
    "    featureofinterest = [1,2,4,6,8,9]#[0,1,2,3,5,6,7,8,9,10,11,12]\n",
    "    X_train = []\n",
    "    y_train = []\n",
    "    X_test = []\n",
    "    y_test = []\n",
    "\n",
    "    for k in ctmc_cvi_models.keys():\n",
    "        if(k.split('_')[0] in train_ids):\n",
    "            X_train.append(ctmc_cvi_models[k].matrix.flatten()[featureofinterest].tolist())\n",
    "            y_train.append(1)\n",
    "        else:\n",
    "            X_test.append(ctmc_cvi_models[k].matrix.flatten()[featureofinterest].tolist())\n",
    "            y_test.append(1)\n",
    "\n",
    "    for k in ctmc_ctrl_models.keys():\n",
    "        if(k.split('_')[0] in train_ids):\n",
    "            X_train.append(ctmc_ctrl_models[k].matrix.flatten()[featureofinterest].tolist())\n",
    "            y_train.append(0)\n",
    "        else:\n",
    "            X_test.append(ctmc_ctrl_models[k].matrix.flatten()[featureofinterest].tolist())\n",
    "            y_test.append(0)\n",
    "    return X_train, y_train, X_test, y_test"
   ]
  },
  {
   "cell_type": "code",
   "execution_count": 627,
   "metadata": {},
   "outputs": [],
   "source": [
    "from sklearn.base import BaseEstimator, ClassifierMixin\n",
    "\n",
    "class dummiesclf(BaseEstimator, ClassifierMixin):\n",
    "\n",
    "    def __init__(self):\n",
    "        pass\n",
    "\n",
    "    def fit(self, X, y=None):\n",
    "        pass\n",
    "    \n",
    "    def predict(self, X, y=None):\n",
    "        ret = np.ones(len(X))\n",
    "        return ret\n",
    "    \n",
    "    def predict_proba(self, X, y=None):\n",
    "        ret = np.stack([np.zeros(len(X)), np.ones(len(X))], axis=1)\n",
    "        return ret\n",
    "    \n",
    "class meanclf(BaseEstimator, ClassifierMixin):\n",
    "\n",
    "    def __init__(self):\n",
    "        pass\n",
    "\n",
    "    def fit(self, X, y=None):\n",
    "        pass\n",
    "    \n",
    "    def predict(self, X, y=None):\n",
    "        ret = np.ones(len(X))\n",
    "        return ret\n",
    "    \n",
    "    def predict_proba(self, X, y=None):\n",
    "        ret = np.stack([np.zeros(len(X)), np.ones(len(X))], axis=1)\n",
    "        return ret"
   ]
  },
  {
   "cell_type": "code",
   "execution_count": 628,
   "metadata": {},
   "outputs": [],
   "source": [
    "from sklearn.linear_model import LogisticRegression\n",
    "from sklearn.preprocessing import StandardScaler\n",
    "from sklearn.pipeline import make_pipeline\n",
    "from sklearn.model_selection import train_test_split\n",
    "from sklearn.svm import SVC\n",
    "from sklearn.model_selection import cross_val_score\n",
    "# clf = LogisticRegression(random_state=1).fit(training_data, train_labels)"
   ]
  },
  {
   "cell_type": "code",
   "execution_count": 629,
   "metadata": {},
   "outputs": [
    {
     "name": "stdout",
     "output_type": "stream",
     "text": [
      "0.7857142857142857 0.8571428571428572 0.9 0.5 0.9\n",
      "0.7928571428571429 0.8541033434650456 0.8203703703703704 0.75 0.9048611111111111\n",
      "0.7785714285714286 0.8396724992469672 0.7969135802469136 0.75 0.9011574074074075\n"
     ]
    }
   ],
   "source": [
    "from sklearn.model_selection import StratifiedKFold\n",
    "from sklearn.linear_model import SGDClassifier\n",
    "from sklearn.metrics import confusion_matrix, f1_score, recall_score, roc_auc_score\n",
    "from sklearn.linear_model import LogisticRegression\n",
    "from sklearn.ensemble import RandomForestClassifier\n",
    "\n",
    "accuracys = []\n",
    "f1_scores = []\n",
    "sens_scores = []\n",
    "spec_scores = []\n",
    "rec_scores = []\n",
    "skf = StratifiedKFold(n_splits=3)\n",
    "for i, (train_index, test_index) in enumerate(skf.split(X, y)):\n",
    "    train_ids = np.array(X)[train_index]\n",
    "    # train_labels = np.array(y)[train_index]\n",
    "    test_ids = np.array(X)[test_index]\n",
    "    # test_labels = np.array(y)[test_index]\n",
    "    X_train, y_train, X_test, y_test = get_train_test_data(ctmc_cvi_models, ctmc_ctrl_models, train_ids)\n",
    "    clf = make_pipeline(StandardScaler(), SGDClassifier(max_iter=100, tol=1e-3, alpha=0.01, class_weight={0:0.75, 1:0.25}, loss='modified_huber'))\n",
    "    # clf = make_pipeline(StandardScaler(), LogisticRegression(random_state=0))\n",
    "    # clf = make_pipeline(StandardScaler(), dummiesclf())\n",
    "    # clf = make_pipeline(StandardScaler(), RandomForestClassifier(max_depth=10, random_state=0))\n",
    "    model = clf.fit(X_train, y_train)\n",
    "\n",
    "    accuracy = np.sum(clf.predict(X_test) == y_test)/len(y_test)\n",
    "    cm = confusion_matrix(y_test, clf.predict(X_test))\n",
    "    sensitivity = cm[1,1]/(cm[1,1] + cm[1,0])\n",
    "    specificity = cm[0,0]/(cm[0,0] + cm[0,1])\n",
    "\n",
    "    accuracys.append(accuracy)\n",
    "    f1_scores.append(f1_score(clf.predict(X_test), y_test))\n",
    "    sens_scores.append(sensitivity)\n",
    "    spec_scores.append(specificity)\n",
    "    # rec_scores.append(recall_score(clf.predict(X_test), y_test))\n",
    "    rec_scores.append(roc_auc_score(y_test, clf.predict_proba(X_test)[:, 1]))\n",
    "    # print(np.sum(clf.predict(X_test) == y_test)/len(y_test))\n",
    "    print(np.mean(accuracys), np.mean(f1_scores), np.mean(sens_scores), np.mean(spec_scores), np.mean(rec_scores))"
   ]
  },
  {
   "cell_type": "code",
   "execution_count": 630,
   "metadata": {},
   "outputs": [
    {
     "name": "stdout",
     "output_type": "stream",
     "text": [
      "0.7785714285714286 0.8396724992469672 0.7969135802469136 0.75 0.9011574074074075\n"
     ]
    }
   ],
   "source": [
    "print(np.mean(accuracys), np.mean(f1_scores), np.mean(sens_scores), np.mean(spec_scores), np.mean(rec_scores))"
   ]
  },
  {
   "cell_type": "code",
   "execution_count": 631,
   "metadata": {},
   "outputs": [
    {
     "name": "stderr",
     "output_type": "stream",
     "text": [
      "100%|██████████| 28/28 [00:00<00:00, 244.87it/s]\n"
     ]
    }
   ],
   "source": [
    "import shap\n",
    "# from sklearn.ensemble import RandomForestClassifier\n",
    "# model = RandomForestClassifier(random_state=42)\n",
    "explainer = shap.KernelExplainer(model.predict, np.array(X_test, dtype=\"float64\"))\n",
    "shap_values = explainer.shap_values(np.array(X_test, dtype=\"float64\"))"
   ]
  },
  {
   "cell_type": "code",
   "execution_count": 632,
   "metadata": {},
   "outputs": [],
   "source": [
    "# shap_test = explainer(np.array(X_test, dtype=\"float64\"))"
   ]
  },
  {
   "cell_type": "code",
   "execution_count": 633,
   "metadata": {},
   "outputs": [
    {
     "data": {
      "text/plain": [
       "array(['fix to sacc', 'fix to blink', 'sacc to fix', 'sacc to blink',\n",
       "       'blink to fix', 'blink to sacc'], dtype='<U14')"
      ]
     },
     "execution_count": 633,
     "metadata": {},
     "output_type": "execute_result"
    }
   ],
   "source": [
    "# feature_names = np.array(['INIT to INIT', 'INIT to FIX', 'INIT to SACC', 'INIT to BLINK',\n",
    "# 'FIX to INIT', 'FIX to FIX', 'FIX to SACC', 'FIX to BLINK',\n",
    "# 'SACC to INIT', 'SACC to FIX', 'SACC to SACC', 'SACC to BLINK',\n",
    "# 'BLINK to INIT', 'BLINK to FIX', 'BLINK to SACC', 'BLINK to BLINK',])[[1,2,3,5,6,7,9,10,11,13,14]]\n",
    "feat_name = ['fix','sacc','blink','init']\n",
    "feature_names = []\n",
    "for i in feat_name:\n",
    "    for j in feat_name:\n",
    "        feature_names.append(f'{i} to {j}')\n",
    "featureofinterest = [1,2,4,6,8,9]#[0,1,2,3,5,6,7,8,9,10,11,12]\n",
    "feature_names = np.array(feature_names)[featureofinterest]\n",
    "feature_names"
   ]
  },
  {
   "cell_type": "code",
   "execution_count": 634,
   "metadata": {},
   "outputs": [
    {
     "data": {
      "image/png": "[encoded data removed]",
      "text/plain": [
       "<Figure size 800x350 with 2 Axes>"
      ]
     },
     "metadata": {},
     "output_type": "display_data"
    }
   ],
   "source": [
    "shap.summary_plot(shap_values, np.array(X_test, dtype=\"float64\"), max_display=5, feature_names=feature_names, plot_type='dot')"
   ]
  },
  {
   "cell_type": "markdown",
   "metadata": {},
   "source": [
    "# For 5-states"
   ]
  },
  {
   "cell_type": "code",
   "execution_count": 637,
   "metadata": {},
   "outputs": [
    {
     "data": {
      "text/plain": [
       "dict_keys(['1003_2', '1003_3', '1003_4', '1004_2', '1005_1', '1006_1', '1006_2', '1006_3', '1006_4', '1007_1', '1007_2', '1007_3', '1007_4', '1008_1', '1010_1', '1010_2', '1010_3', '1010_4', '1011_1', '1011_2', '1011_3', '1013_1', '1013_2', '1013_3', '1013_4', '1015_1', '1015_2', '1017_1', '1017_2', '1017_3', '1017_4', '1018_1', '1018_2', '1018_3', '1018_4', '1019_2', '1019_3', '1019_4', '1020_1', '1020_2', '1020_3', '1020_4', '1022_1', '1022_2', '1022_3', '1022_4', '1023_1', '1023_2', '1023_3', '1023_4', '1024_1', '1024_2', '1024_3', '1026_1', '1027_1', '1027_2', '1027_3', '1027_4', '1028_1', '1028_2', '1028_3', '1030_1', '1031_1', '1031_2', '1031_3', '1031_4', '1034_1', '1034_2', '1035_1', '1035_4', '1037_1', '1037_4', '1039_1', '1039_2', '1039_3', '1039_4', '1040_1', '1040_4', '1042_1', '1042_2', '1042_3', '1042_4', '1043_1', '1043_2', '1043_3', '1044_1', '1044_2', '1044_4', '1045_2', '1045_3', '1045_4', '1046_1', '1046_2', '1046_3', '1046_4', '1047_2', '1047_3', '1048_1', '1048_2', '1048_3', '1049_1', '1049_2', '1049_3', '1050_1', '1050_3', '1051_1', '1051_2', '1052_1', '1052_2', '1052_3', '1053_3', '1054_1', '1056_1', '2002_1', '2002_2', '2003_1', '2003_2', '2004_1', '2004_2', '2005_1', '2005_2', '2006_1', '2006_2', '2008_1', '2009_1', '2010_1', '2011_1', '2013_1', '2014_1', '2015_1', '2017_1', '2018_1', '2019_1', '2022_1', '2023_1', '2024_1', '2025_1', '2026_1', '2031_1', '2036_1', '2037_1', '2038_1', '2039_1', '2040_1', '2043_1', '2044_1', '2045_1'])"
      ]
     },
     "execution_count": 637,
     "metadata": {},
     "output_type": "execute_result"
    }
   ],
   "source": [
    "import pickle \n",
    "with open('ctmc_models.pkl', 'rb') as f:\n",
    "    ctmc_models = pickle.load(f)\n",
    "ctmc_models.keys()"
   ]
  },
  {
   "cell_type": "code",
   "execution_count": 638,
   "metadata": {},
   "outputs": [],
   "source": [
    "from sklearn.model_selection import train_test_split\n",
    "ids = list(set([i.split('_')[0] for i in list(ctmc_models.keys())]))\n",
    "yid = [(int(id) < 2000)*1 for id in ids]\n",
    "ids_train, ids_test, yid_train, yid_test = train_test_split(ids, yid)"
   ]
  },
  {
   "cell_type": "code",
   "execution_count": 721,
   "metadata": {},
   "outputs": [
    {
     "name": "stdout",
     "output_type": "stream",
     "text": [
      "Name: CTMC_random_5_states\n",
      "Initial state: s5\n",
      "----STATE 0--saccade----\n",
      "Exepected waiting time: 30.916666666666666666\n",
      "s0 -> s1 : lambda = 0.008086253369272237197\n",
      "s0 -> s2 : lambda = 0.020215633423180592991\n",
      "s0 -> s3 : lambda = 0.0026954177897574123988\n",
      "s0 -> s4 : lambda = 0.0013477088948787061994\n",
      "\n",
      "----STATE 1--complex_scene_fixation----\n",
      "Exepected waiting time: 233.71428571428571429\n",
      "s1 -> s0 : lambda = 0.0024449877750611246944\n",
      "s1 -> s3 : lambda = 0.0006112469437652811736\n",
      "s1 -> s4 : lambda = 0.0012224938875305623472\n",
      "\n",
      "----STATE 2--background_fixation----\n",
      "Exepected waiting time: 279.125\n",
      "s2 -> s0 : lambda = 0.0033587102552619794\n",
      "s2 -> s1 : lambda = 0.00022391401701746529333\n",
      "\n",
      "----STATE 3--face_fixation----\n",
      "Exepected waiting time: 74.0\n",
      "s3 -> s0 : lambda = 0.013513513513513513513\n",
      "\n",
      "----STATE 4--blink----\n",
      "Exepected waiting time: 108.666666666666666664\n",
      "s4 -> s0 : lambda = 0.0030674846625766871166\n",
      "s4 -> s1 : lambda = 0.0030674846625766871166\n",
      "s4 -> s2 : lambda = 0.0030674846625766871166\n",
      "\n",
      "----STATE 5--init----\n",
      "Exepected waiting time: 1.0\n",
      "s5 -> s0 : lambda = 0.3125\n",
      "s5 -> s1 : lambda = 0.09375\n",
      "s5 -> s2 : lambda = 0.15625\n",
      "s5 -> s3 : lambda = 0.21875\n",
      "s5 -> s4 : lambda = 0.21875\n",
      "\n",
      "\n",
      "\n"
     ]
    }
   ],
   "source": [
    "print(ctmc_models['1003_4'])"
   ]
  },
  {
   "cell_type": "code",
   "execution_count": 639,
   "metadata": {},
   "outputs": [
    {
     "data": {
      "text/plain": [
       "array([[0.00000000e+00, 8.08625337e-03, 2.02156334e-02, 2.69541779e-03,\n",
       "        1.34770889e-03, 0.00000000e+00],\n",
       "       [2.44498778e-03, 0.00000000e+00, 0.00000000e+00, 6.11246944e-04,\n",
       "        1.22249389e-03, 0.00000000e+00],\n",
       "       [3.35871026e-03, 2.23914017e-04, 0.00000000e+00, 0.00000000e+00,\n",
       "        0.00000000e+00, 0.00000000e+00],\n",
       "       [1.35135135e-02, 0.00000000e+00, 0.00000000e+00, 0.00000000e+00,\n",
       "        0.00000000e+00, 0.00000000e+00],\n",
       "       [3.06748466e-03, 3.06748466e-03, 3.06748466e-03, 0.00000000e+00,\n",
       "        0.00000000e+00, 0.00000000e+00],\n",
       "       [3.12500000e-01, 9.37500000e-02, 1.56250000e-01, 2.18750000e-01,\n",
       "        2.18750000e-01, 0.00000000e+00]], dtype=float128)"
      ]
     },
     "execution_count": 639,
     "metadata": {},
     "output_type": "execute_result"
    }
   ],
   "source": [
    "ctmc_models['1003_4'].matrix"
   ]
  },
  {
   "cell_type": "code",
   "execution_count": 640,
   "metadata": {},
   "outputs": [
    {
     "data": {
      "text/plain": [
       "[1, 2, 3, 4, 6, 8, 9, 10, 12, 13, 15, 16, 18, 19, 20, 22, 24, 25, 26, 27]"
      ]
     },
     "execution_count": 640,
     "metadata": {},
     "output_type": "execute_result"
    }
   ],
   "source": [
    "[1,2,3,4,6,8,9,10,12,13,15,16,18,19,20,22,24,25,26,27]"
   ]
  },
  {
   "cell_type": "code",
   "execution_count": 641,
   "metadata": {},
   "outputs": [],
   "source": [
    "def get_train_test_from_ids(ctmc_models, ids_train, yid_train, ids_test, yid_test):\n",
    "    featureofinterest = [1,2,3,4,6,8,9,10,12,13,15,16,18,19,20,22,24,25,26,27]#[i for i in range(29)]#[1,2,3,4,6,9,10,12,13,18,24,25,26]#\n",
    "    X_train = []\n",
    "    y_train = []\n",
    "    X_test = []\n",
    "    y_test = []\n",
    "\n",
    "    for k in ctmc_models.keys():\n",
    "        index = -1\n",
    "        train = True\n",
    "        try:\n",
    "            index = ids_train.index(k.split('_')[0])\n",
    "            train = True\n",
    "        except:\n",
    "            index = ids_test.index(k.split('_')[0])\n",
    "            train = False\n",
    "        if(train):\n",
    "            X_train.append(ctmc_models[k].matrix.flatten()[featureofinterest].tolist())\n",
    "            y_train.append(yid_train[index])\n",
    "        else:\n",
    "            X_test.append(ctmc_models[k].matrix.flatten()[featureofinterest].tolist())\n",
    "            y_test.append(yid_test[index])\n",
    "\n",
    "    return X_train, y_train, X_test, y_test"
   ]
  },
  {
   "cell_type": "code",
   "execution_count": 642,
   "metadata": {},
   "outputs": [
    {
     "data": {
      "text/plain": [
       "(63, 6)"
      ]
     },
     "execution_count": 642,
     "metadata": {},
     "output_type": "execute_result"
    }
   ],
   "source": [
    "import numpy as np\n",
    "np.array(X_train).shape"
   ]
  },
  {
   "cell_type": "code",
   "execution_count": 643,
   "metadata": {},
   "outputs": [
    {
     "name": "stdout",
     "output_type": "stream",
     "text": [
      "0.7738095238095238 0.8268324073202121 0.7833333333333332 0.75 0.88125\n"
     ]
    }
   ],
   "source": [
    "from sklearn.model_selection import StratifiedKFold\n",
    "from sklearn.linear_model import SGDClassifier\n",
    "from sklearn.calibration import CalibratedClassifierCV\n",
    "from sklearn.metrics import confusion_matrix, f1_score, recall_score\n",
    "from sklearn.linear_model import LogisticRegression\n",
    "from sklearn.ensemble import RandomForestClassifier\n",
    "from sklearn.utils.class_weight import compute_class_weight\n",
    "from sklearn.metrics import roc_auc_score\n",
    "accuracys = []\n",
    "f1_scores = []\n",
    "sens_scores = []\n",
    "spec_scores = []\n",
    "rec_scores = []\n",
    "skf = StratifiedKFold(n_splits=3)\n",
    "for i, (train_index, test_index) in enumerate(skf.split(ids, yid)):\n",
    "    ids_train = list(np.array(ids)[train_index])\n",
    "    yid_train = np.array(yid)[train_index]\n",
    "    ids_test = list(np.array(ids)[test_index])\n",
    "    yid_test = np.array(yid)[test_index]\n",
    "    weight = compute_class_weight(class_weight=\"balanced\", classes=np.unique(yid_train), y=yid_train)\n",
    "    clf = make_pipeline(StandardScaler(), SGDClassifier(max_iter=1000, tol=1e-3, alpha=0.01, class_weight={0:0.76, 1:0.24}, loss='modified_huber'))\n",
    "    # clf = SGDClassifier(max_iter=1000, tol=1e-3, alpha=0.01, class_weight={0:0.24, 1:0.76}, loss='modified_huber')\n",
    "    # clf = CalibratedClassifierCV(tempclf)\n",
    "    # clf = make_pipeline(StandardScaler(), LogisticRegression(random_state=0))\n",
    "    # clf = make_pipeline(StandardScaler(), dummiesclf())\n",
    "    # X_train, y_train, X_test, y_test = get_train_test_from_ids(ctmc_models, ids_train, yid_train, ids_test, yid_test)\n",
    "    # clf = make_pipeline(StandardScaler(), RandomForestClassifier(max_depth=2, random_state=0))\n",
    "    model = clf.fit(X_train, y_train)\n",
    "\n",
    "    accuracy = np.sum(clf.predict(X_test) == y_test)/len(y_test)\n",
    "    cm = confusion_matrix(y_test, clf.predict(X_test))\n",
    "    sensitivity = cm[1,1]/(cm[1,1] + cm[1,0])\n",
    "    specificity = cm[0,0]/(cm[0,0] + cm[0,1])\n",
    "\n",
    "    accuracys.append(accuracy)\n",
    "    f1_scores.append(f1_score(clf.predict(X_test), y_test))\n",
    "    sens_scores.append(sensitivity)\n",
    "    spec_scores.append(specificity)\n",
    "    rec_scores.append(roc_auc_score(y_test, clf.predict_proba(X_test)[:, 1]))\n",
    "    # print(np.sum(clf.predict(X_test) == y_test)/len(y_test))\n",
    "print(np.mean(accuracys), np.mean(f1_scores), np.mean(sens_scores), np.mean(spec_scores), np.mean(rec_scores))"
   ]
  },
  {
   "cell_type": "code",
   "execution_count": 644,
   "metadata": {},
   "outputs": [
    {
     "name": "stderr",
     "output_type": "stream",
     "text": [
      "100%|██████████| 28/28 [00:00<00:00, 256.01it/s]\n"
     ]
    }
   ],
   "source": [
    "import shap\n",
    "# from sklearn.ensemble import RandomForestClassifier\n",
    "# model = RandomForestClassifier(random_state=42)\n",
    "explainer = shap.KernelExplainer(model.predict, np.array(X_test, dtype=\"float64\"))\n",
    "shap_values = explainer.shap_values(np.array(X_test, dtype=\"float64\"))"
   ]
  },
  {
   "cell_type": "code",
   "execution_count": 655,
   "metadata": {},
   "outputs": [],
   "source": [
    "feat_name = ['sacc','complex_scene','background', 'face', 'blink','init']\n",
    "feature_names = []\n",
    "for i in feat_name:\n",
    "    for j in feat_name:\n",
    "        feature_names.append(f'{i} to {j}')\n",
    "featureofinterest = [1,2,3,4,6,8,9,10,12,13,15,16,18,19,20,22,24,25,26,27]#[i for i in range(29)]#[1,2,3,4,6,9,10,12,13,18,24,25,26]\n",
    "feature_names = np.array(feature_names)[featureofinterest]"
   ]
  },
  {
   "cell_type": "code",
   "execution_count": 656,
   "metadata": {},
   "outputs": [
    {
     "data": {
      "image/png": "[encoded data removed]",
      "text/plain": [
       "<Figure size 800x350 with 2 Axes>"
      ]
     },
     "metadata": {},
     "output_type": "display_data"
    }
   ],
   "source": [
    "# featureofinterest = [1,2,3,4,6,9,10,12,18,24,25,26,27,30,31,32,33,34,35]\n",
    "# feature_names = np.array(feature_names)[featureofinterest]\n",
    "shap.summary_plot(shap_values, np.array(X_test, dtype=\"float64\"), max_display=5, feature_names=feature_names, plot_type='dot')"
   ]
  },
  {
   "cell_type": "markdown",
   "metadata": {},
   "source": [
    "# Testing Space"
   ]
  },
  {
   "cell_type": "code",
   "execution_count": 648,
   "metadata": {},
   "outputs": [
    {
     "data": {
      "text/plain": [
       "dict_keys(['1044_4', '1023_2', '1047_3', '1056_1', '1053_3', '1039_1', '1046_2', '1043_4', '1020_4', '1039_4', '1046_3', '1047_1', '1022_4', '1027_2', '1050_3', '1043_1', '1026_1', '1034_3', '1028_3', '1052_3', '1031_4', '1028_4', '1046_4', '1042_1', '1013_4', '1028_2', '1048_1', '1019_3', '1046_1', '1017_4', '1023_3', '1039_3', '1040_1', '1042_2', '1049_1', '1010_4', '1040_4', '1051_1', '1034_2', '1039_2', '1048_2', '1031_2', '1045_4', '1050_1', '1043_3', '1018_3', '1031_1', '1018_4', '1037_4', '1020_3', '1054_1', '1042_4', '1048_3', '1024_1', '1033_1', '1035_3', '1034_1', '1027_4', '1028_1', '1051_2', '1042_3', '1013_3', '1047_2', '1023_1', '1022_3', '1010_3', '1027_1'])"
      ]
     },
     "execution_count": 648,
     "metadata": {},
     "output_type": "execute_result"
    }
   ],
   "source": [
    "ctmc_cvi_models.keys()"
   ]
  },
  {
   "cell_type": "code",
   "execution_count": 649,
   "metadata": {},
   "outputs": [
    {
     "data": {
      "text/plain": [
       "dict_keys(['1003_2', '1003_3', '1003_4', '1004_2', '1005_1', '1006_1', '1006_2', '1006_3', '1006_4', '1007_1', '1007_2', '1007_3', '1007_4', '1008_1', '1010_1', '1010_2', '1010_3', '1010_4', '1011_1', '1011_2', '1011_3', '1013_1', '1013_2', '1013_3', '1013_4', '1015_1', '1015_2', '1017_1', '1017_2', '1017_3', '1017_4', '1018_1', '1018_2', '1018_3', '1018_4', '1019_2', '1019_3', '1019_4', '1020_1', '1020_2', '1020_3', '1020_4', '1022_1', '1022_2', '1022_3', '1022_4', '1023_1', '1023_2', '1023_3', '1023_4', '1024_1', '1024_2', '1024_3', '1026_1', '1027_1', '1027_2', '1027_3', '1027_4', '1028_1', '1028_2', '1028_3', '1030_1', '1031_1', '1031_2', '1031_3', '1031_4', '1034_1', '1034_2', '1035_1', '1035_4', '1037_1', '1037_4', '1039_1', '1039_2', '1039_3', '1039_4', '1040_1', '1040_4', '1042_1', '1042_2', '1042_3', '1042_4', '1043_1', '1043_2', '1043_3', '1044_1', '1044_2', '1044_4', '1045_2', '1045_3', '1045_4', '1046_1', '1046_2', '1046_3', '1046_4', '1047_2', '1047_3', '1048_1', '1048_2', '1048_3', '1049_1', '1049_2', '1049_3', '1050_1', '1050_3', '1051_1', '1051_2', '1052_1', '1052_2', '1052_3', '1053_3', '1054_1', '1056_1', '2002_1', '2002_2', '2003_1', '2003_2', '2004_1', '2004_2', '2005_1', '2005_2', '2006_1', '2006_2', '2008_1', '2009_1', '2010_1', '2011_1', '2013_1', '2014_1', '2015_1', '2017_1', '2018_1', '2019_1', '2022_1', '2023_1', '2024_1', '2025_1', '2026_1', '2031_1', '2036_1', '2037_1', '2038_1', '2039_1', '2040_1', '2043_1', '2044_1', '2045_1'])"
      ]
     },
     "execution_count": 649,
     "metadata": {},
     "output_type": "execute_result"
    }
   ],
   "source": [
    "ctmc_models.keys()"
   ]
  },
  {
   "cell_type": "code",
   "execution_count": 650,
   "metadata": {},
   "outputs": [
    {
     "data": {
      "text/plain": [
       "{'1010_3',\n",
       " '1010_4',\n",
       " '1013_3',\n",
       " '1013_4',\n",
       " '1017_4',\n",
       " '1018_3',\n",
       " '1018_4',\n",
       " '1019_3',\n",
       " '1020_3',\n",
       " '1020_4',\n",
       " '1022_3',\n",
       " '1022_4',\n",
       " '1023_1',\n",
       " '1023_2',\n",
       " '1023_3',\n",
       " '1024_1',\n",
       " '1026_1',\n",
       " '1027_1',\n",
       " '1027_2',\n",
       " '1027_4',\n",
       " '1028_1',\n",
       " '1028_2',\n",
       " '1028_3',\n",
       " '1031_1',\n",
       " '1031_2',\n",
       " '1031_4',\n",
       " '1034_1',\n",
       " '1034_2',\n",
       " '1037_4',\n",
       " '1039_1',\n",
       " '1039_2',\n",
       " '1039_3',\n",
       " '1039_4',\n",
       " '1040_1',\n",
       " '1040_4',\n",
       " '1042_1',\n",
       " '1042_2',\n",
       " '1042_3',\n",
       " '1042_4',\n",
       " '1043_1',\n",
       " '1043_3',\n",
       " '1044_4',\n",
       " '1045_4',\n",
       " '1046_1',\n",
       " '1046_2',\n",
       " '1046_3',\n",
       " '1046_4',\n",
       " '1047_2',\n",
       " '1047_3',\n",
       " '1048_1',\n",
       " '1048_2',\n",
       " '1048_3',\n",
       " '1049_1',\n",
       " '1050_1',\n",
       " '1050_3',\n",
       " '1051_1',\n",
       " '1051_2',\n",
       " '1052_3',\n",
       " '1053_3',\n",
       " '1054_1',\n",
       " '1056_1'}"
      ]
     },
     "execution_count": 650,
     "metadata": {},
     "output_type": "execute_result"
    }
   ],
   "source": [
    "(set(ctmc_cvi_models.keys()) & set(ctmc_models.keys()))"
   ]
  },
  {
   "cell_type": "code",
   "execution_count": 651,
   "metadata": {},
   "outputs": [
    {
     "data": {
      "text/plain": [
       "array([[0.        , 0.0053411 , 0.00273125, 0.        ],\n",
       "       [0.00628426, 0.        , 0.        , 0.        ],\n",
       "       [0.        , 0.02554028, 0.        , 0.        ],\n",
       "       [0.00127443, 0.        , 0.00084962, 0.        ]], dtype=float128)"
      ]
     },
     "execution_count": 651,
     "metadata": {},
     "output_type": "execute_result"
    }
   ],
   "source": [
    "ctmc_cvi_models['1010_3'].matrix"
   ]
  },
  {
   "cell_type": "code",
   "execution_count": 652,
   "metadata": {},
   "outputs": [
    {
     "data": {
      "text/plain": [
       "array([[0.        , 0.01724138, 0.02011494, 0.01724138, 0.02873563,\n",
       "        0.        ],\n",
       "       [0.        , 0.        , 0.00018464, 0.        , 0.        ,\n",
       "        0.        ],\n",
       "       [0.        , 0.0005144 , 0.        , 0.        , 0.        ,\n",
       "        0.        ],\n",
       "       [0.        , 0.00039683, 0.        , 0.        , 0.        ,\n",
       "        0.        ],\n",
       "       [0.0047619 , 0.00595238, 0.00238095, 0.00357143, 0.        ,\n",
       "        0.        ],\n",
       "       [0.02083333, 0.00694444, 0.00694444, 0.03472222, 0.01388889,\n",
       "        0.        ]], dtype=float128)"
      ]
     },
     "execution_count": 652,
     "metadata": {},
     "output_type": "execute_result"
    }
   ],
   "source": [
    "ctmc_models['1010_3'].matrix/12"
   ]
  },
  {
   "cell_type": "code",
   "execution_count": 706,
   "metadata": {},
   "outputs": [],
   "source": [
    "from scipy.optimize import nnls\n",
    "def get_rate_matrix(ctmc_model):\n",
    "    matrix = ctmc_model.matrix.astype(np.float64)\n",
    "    for i in range(len(matrix)):\n",
    "        matrix[i][i] = np.sum(matrix[i])*(-1)\n",
    "    return np.matrix.transpose(matrix)\n",
    "\n",
    "def get_stationary_dis(ctmc_model):\n",
    "    A = get_rate_matrix(ctmc_model)\n",
    "    b = np.zeros((7,))\n",
    "    A = np.vstack((A,np.ones(6)))\n",
    "    b[6] = 1\n",
    "    lsq = np.linalg.lstsq(A, b, rcond=None)\n",
    "    return lsq[0].flatten()"
   ]
  },
  {
   "cell_type": "code",
   "execution_count": null,
   "metadata": {},
   "outputs": [],
   "source": [
    "ctmc_models.keys()"
   ]
  },
  {
   "cell_type": "code",
   "execution_count": 713,
   "metadata": {},
   "outputs": [],
   "source": [
    "cvikeys = []\n",
    "ctrlkeys = []\n",
    "for k in ctmc_models:\n",
    "    if(int(k.split('_')[0]) > 2000):\n",
    "        ctrlkeys.append(k)\n",
    "    else:\n",
    "        cvikeys.append(k)\n",
    "filterByKey = lambda keys: {x: ctmc_models[x] for x in keys}\n",
    "ctmc_cvi_models = filterByKey(cvikeys)\n",
    "ctmc_ctrl_models = filterByKey(ctrlkeys)"
   ]
  },
  {
   "cell_type": "code",
   "execution_count": 715,
   "metadata": {},
   "outputs": [
    {
     "data": {
      "text/plain": [
       "dict_keys(['1003_2', '1003_3', '1003_4', '1004_2', '1005_1', '1006_1', '1006_2', '1006_3', '1006_4', '1007_1', '1007_2', '1007_3', '1007_4', '1008_1', '1010_1', '1010_2', '1010_3', '1010_4', '1011_1', '1011_2', '1011_3', '1013_1', '1013_2', '1013_3', '1013_4', '1015_1', '1015_2', '1017_1', '1017_2', '1017_3', '1017_4', '1018_1', '1018_2', '1018_3', '1018_4', '1019_2', '1019_3', '1019_4', '1020_1', '1020_2', '1020_3', '1020_4', '1022_1', '1022_2', '1022_3', '1022_4', '1023_1', '1023_2', '1023_3', '1023_4', '1024_1', '1024_2', '1024_3', '1026_1', '1027_1', '1027_2', '1027_3', '1027_4', '1028_1', '1028_2', '1028_3', '1030_1', '1031_1', '1031_2', '1031_3', '1031_4', '1034_1', '1034_2', '1035_1', '1035_4', '1037_1', '1037_4', '1039_1', '1039_2', '1039_3', '1039_4', '1040_1', '1040_4', '1042_1', '1042_2', '1042_3', '1042_4', '1043_1', '1043_2', '1043_3', '1044_1', '1044_2', '1044_4', '1045_2', '1045_3', '1045_4', '1046_1', '1046_2', '1046_3', '1046_4', '1047_2', '1047_3', '1048_1', '1048_2', '1048_3', '1049_1', '1049_2', '1049_3', '1050_1', '1050_3', '1051_1', '1051_2', '1052_1', '1052_2', '1052_3', '1053_3', '1054_1', '1056_1'])"
      ]
     },
     "execution_count": 715,
     "metadata": {},
     "output_type": "execute_result"
    }
   ],
   "source": [
    "ctmc_cvi_models.keys()"
   ]
  },
  {
   "cell_type": "code",
   "execution_count": 716,
   "metadata": {},
   "outputs": [],
   "source": [
    "ctrl_temp = []\n",
    "cvi_temp = []\n",
    "\n",
    "for key in ctmc_cvi_models:\n",
    "    cvi_temp.append(get_stationary_dis(ctmc_cvi_models[key]))\n",
    "for key in ctmc_ctrl_models:\n",
    "    ctrl_temp.append(get_stationary_dis(ctmc_ctrl_models[key]))"
   ]
  },
  {
   "cell_type": "code",
   "execution_count": 720,
   "metadata": {},
   "outputs": [
    {
     "data": {
      "text/plain": [
       "array([ 1.05961933e-01,  5.26342121e-01,  6.80121657e-02,  2.99425009e-01,\n",
       "        2.58771937e-04, -2.79752304e-16])"
      ]
     },
     "execution_count": 720,
     "metadata": {},
     "output_type": "execute_result"
    }
   ],
   "source": [
    "cvi_temp[0]"
   ]
  },
  {
   "cell_type": "code",
   "execution_count": 719,
   "metadata": {},
   "outputs": [
    {
     "data": {
      "image/png": "[encoded data removed]",
      "text/plain": [
       "<Figure size 800x400 with 1 Axes>"
      ]
     },
     "metadata": {},
     "output_type": "display_data"
    }
   ],
   "source": [
    "# Import libraries\n",
    "import matplotlib.pyplot as plt\n",
    "import numpy as np\n",
    "plt.rcParams[\"figure.figsize\"] = (8, 4)\n",
    "X = ['sacc','complex_scene','background', 'face', 'blink','init']\n",
    "X_axis = np.arange(len(X)) \n",
    "c = 'lightblue'\n",
    "# Creating plot\n",
    "bp1 = plt.boxplot([np.row_stack(ctrl_temp)[:,i] for i in range(6)], widths=0.3, positions = X_axis - 0.2, patch_artist=True, notch=False, whis=2.5)\n",
    "bp2 = plt.boxplot([np.row_stack(cvi_temp)[:,i] for i in range(6)], widths=0.3, positions = X_axis + 0.2, patch_artist=True, notch=False, whis=2.5,\n",
    "                  boxprops=dict(facecolor=c, color=c))\n",
    "\n",
    "plt.xticks(X_axis, X) \n",
    "plt.grid(linestyle='--')\n",
    "# plt.legend(['Controls', 'CVIs'])\n",
    "# plt.legend([bp1[\"boxes\"][0], bp2[\"boxes\"][0]], ['Controls', 'CVIs'], loc='upper right')\n",
    "plt.ylabel('Probability')\n",
    "plt.xlabel('States')\n",
    "# show plot\n",
    "plt.show()"
   ]
  }
 ],
 "metadata": {
  "kernelspec": {
   "display_name": "xai",
   "language": "python",
   "name": "python3"
  },
  "language_info": {
   "codemirror_mode": {
    "name": "ipython",
    "version": 3
   },
   "file_extension": ".py",
   "mimetype": "text/x-python",
   "name": "python",
   "nbconvert_exporter": "python",
   "pygments_lexer": "ipython3",
   "version": "3.10.13"
  }
 },
 "nbformat": 4,
 "nbformat_minor": 2
}
